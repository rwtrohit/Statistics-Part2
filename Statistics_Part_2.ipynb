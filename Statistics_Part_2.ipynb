{
  "nbformat": 4,
  "nbformat_minor": 0,
  "metadata": {
    "colab": {
      "provenance": []
    },
    "kernelspec": {
      "name": "python3",
      "display_name": "Python 3"
    },
    "language_info": {
      "name": "python"
    }
  },
  "cells": [
    {
      "cell_type": "code",
      "execution_count": null,
      "metadata": {
        "id": "vluMdAXg5ryh"
      },
      "outputs": [],
      "source": [
        "1). What is hypothesis testing in statistics"
      ]
    },
    {
      "cell_type": "markdown",
      "source": [
        "Ans1).\n",
        "      Statistical hypothesis testing is a method used to determine if there's enough evidence in a sample to draw conclusions about a population, involving formulating hypotheses (null and alternative), collecting data, and assessing the evidence to decide whether to reject or fail to reject the null hypothesis."
      ],
      "metadata": {
        "id": "fkO0yCrY7rAn"
      }
    },
    {
      "cell_type": "markdown",
      "source": [
        "2). What is the null hypothesis, and how does it differ from the alternative hypothesis.?\n"
      ],
      "metadata": {
        "id": "dfDKNbxR7w-p"
      }
    },
    {
      "cell_type": "markdown",
      "source": [
        "Ans2). The null hypothesis (H0) assumes no effect or difference, while the alternative hypothesis (H1 or Ha) proposes an effect or difference exists, and is accepted if evidence rejects the null hypothesis.\n",
        "\n"
      ],
      "metadata": {
        "id": "W7nO-T7e70w2"
      }
    },
    {
      "cell_type": "markdown",
      "source": [
        "3).  \n",
        " What is the significance level in hypothesis testing, and why is it important?\n"
      ],
      "metadata": {
        "id": "E2C7hhFK77Qv"
      }
    },
    {
      "cell_type": "markdown",
      "source": [
        "Ans3).Significance levels and P values are important tools that help us to quantify and control this type of error in a hypothesis test. Using these tools to decide when to reject the null hypothesis increases your chance of making the correct decision.\n",
        "\n"
      ],
      "metadata": {
        "id": "xhoq6SqH7-yy"
      }
    },
    {
      "cell_type": "markdown",
      "source": [
        "4).\n",
        " What does a P-value represent in hypothesis testing?"
      ],
      "metadata": {
        "id": "CubRmAY78JaO"
      }
    },
    {
      "cell_type": "markdown",
      "source": [
        "Ans4).In hypothesis testing, a p-value represents the probability of obtaining results as extreme as, or more extreme than, the observed results, assuming the null hypothesis is true. A smaller p-value indicates stronger evidence against the null hypothesis.\n",
        "\n"
      ],
      "metadata": {
        "id": "B2oaoAYT8K7X"
      }
    },
    {
      "cell_type": "markdown",
      "source": [
        "5).\n",
        " How do you interpret the P-value in hypothesis testing?"
      ],
      "metadata": {
        "id": "ajHXNiVl8RPi"
      }
    },
    {
      "cell_type": "markdown",
      "source": [
        "Ans5).In hypothesis testing, the p-value represents the probability of observing results as extreme as, or more extreme than, the ones obtained, assuming the null hypothesis is true.\n",
        "\n"
      ],
      "metadata": {
        "id": "GdY0yaZS8S-v"
      }
    },
    {
      "cell_type": "markdown",
      "source": [
        "6).What are Type 1 and Type 2 errors in hypothesis testing?"
      ],
      "metadata": {
        "id": "6DniR6o08XGz"
      }
    },
    {
      "cell_type": "markdown",
      "source": [
        "Ans6).In hypothesis testing, a Type I error (false positive) occurs when you reject a true null hypothesis, while a Type II error (false negative) occurs when we fail to reject a false null hypothesis.\n",
        "\n"
      ],
      "metadata": {
        "id": "uIDtYDKP8YfF"
      }
    },
    {
      "cell_type": "markdown",
      "source": [
        "7).  What is the difference between a one-tailed and a two-tailed test in hypothesis testing?"
      ],
      "metadata": {
        "id": "kGh5cigt8hBt"
      }
    },
    {
      "cell_type": "markdown",
      "source": [
        "Ans7).In hypothesis testing, a one-tailed test checks for a difference in one specific direction (e.g., greater than or less than), while a two-tailed test checks for a difference in either direction (greater or less than).\n",
        "\n"
      ],
      "metadata": {
        "id": "4nkMrKIR8jBD"
      }
    },
    {
      "cell_type": "markdown",
      "source": [
        "8). What is the Z-test, and when is it used in hypothesis testing?"
      ],
      "metadata": {
        "id": "h0Pj7KKv80fk"
      }
    },
    {
      "cell_type": "markdown",
      "source": [
        "Ans8)\n",
        "\tA Z-test is a statistical test used to determine if there's a significant difference between a sample mean and a population mean or between the means of two populations when the population standard deviation is known or the sample size is large, typically greater than 30."
      ],
      "metadata": {
        "id": "SQ0v5OLw81uv"
      }
    },
    {
      "cell_type": "markdown",
      "source": [
        "9). How do you calculate the Z-score, and what does it represent in hypothesis testing?"
      ],
      "metadata": {
        "id": "H6_LR7dZ848_"
      }
    },
    {
      "cell_type": "markdown",
      "source": [
        "Ans9)\n",
        "\tTo calculate a z-score, you subtract the population mean from a raw score and divide the result by the population standard deviation. In hypothesis testing, a z-score indicates how many standard deviations a data point is from the mean, helping determine if a sample is significantly different from a population.\n",
        "\n",
        "  "
      ],
      "metadata": {
        "id": "m3mBoUEh88O5"
      }
    },
    {
      "cell_type": "markdown",
      "source": [
        "10).\n",
        "What is the T-distribution, and when should it be used instead of the normal distribution?"
      ],
      "metadata": {
        "id": "tube07nH8_JG"
      }
    },
    {
      "cell_type": "markdown",
      "source": [
        "Ans10)\n",
        "\tWhen the population standard deviation (σ) is unknown, and you only have the sample standard deviation (s), the t-distribution is appropriate."
      ],
      "metadata": {
        "id": "QCObb_Ko9Auq"
      }
    },
    {
      "cell_type": "markdown",
      "source": [
        "11).  What is the difference between a Z-test and a T-test?"
      ],
      "metadata": {
        "id": "MiMfb5p89Dgh"
      }
    },
    {
      "cell_type": "markdown",
      "source": [
        "Ans11)\n",
        "\tThe primary difference between a Z-test and a T-test lies in the sample size and knowledge of population standard deviation. Z-tests are used for large samples (n > 30) when the population standard deviation is known, while T-tests are used for smaller samples (n < 30) or when the population standard deviation is unknown.\n",
        "\n",
        "  "
      ],
      "metadata": {
        "id": "JcddZEzj9E-z"
      }
    },
    {
      "cell_type": "markdown",
      "source": [
        "12).\n",
        " What is the T-test, and how is it used in hypothesis testing ?"
      ],
      "metadata": {
        "id": "HC1shNhD9JFk"
      }
    },
    {
      "cell_type": "markdown",
      "source": [
        "Ans12)\n",
        "\tA t-test is a statistical test used to determine if there's a significant difference between the means of two groups, and it's a crucial tool in hypothesis testing to evaluate whether a process or treatment has an effect on a population.\n",
        "\n",
        "  "
      ],
      "metadata": {
        "id": "PD3uXTki9Kdl"
      }
    },
    {
      "cell_type": "markdown",
      "source": [
        "13).  What is the relationship between Z-test and T-test in hypothesis testing?"
      ],
      "metadata": {
        "id": "l-56RdP-9NM2"
      }
    },
    {
      "cell_type": "markdown",
      "source": [
        "Ans13)\n",
        "\tThe t-test is based on the Student's t-distribution, while the z-test is based on the assumption that the distribution of the sample means is normal. In the case of a t-test, the population variance must be unknown.\n",
        "\n",
        "  "
      ],
      "metadata": {
        "id": "rpdIKLW19OeX"
      }
    },
    {
      "cell_type": "markdown",
      "source": [
        "14).  What is a confidence interval, and how is it used to interpret statistical results?"
      ],
      "metadata": {
        "id": "UJyAiK2A9Qyj"
      }
    },
    {
      "cell_type": "markdown",
      "source": [
        "Ans14)\n",
        "\t one way to represent how \"good\" an estimate is; the larger a 90% confidence interval for a particular estimate, the more caution is required when using the estimate. Confidence intervals are an important reminder of the limitations of the estimates.\n",
        "\n",
        "   "
      ],
      "metadata": {
        "id": "B6NrVoUK9Sz-"
      }
    },
    {
      "cell_type": "markdown",
      "source": [
        "15). What is the margin of error, and how does it affect the confidence interval?"
      ],
      "metadata": {
        "id": "MAQh9NsQ9VRi"
      }
    },
    {
      "cell_type": "markdown",
      "source": [
        "Ans15)\n",
        "\tThe margin of error (MOE) is a statistical measure indicating the precision of an estimate, representing half the width of a confidence interval. A smaller MOE implies a more precise estimate, while a larger MOE indicates a wider range of uncertainty.\n",
        "\n",
        "  "
      ],
      "metadata": {
        "id": "KpwpPP8q9WvB"
      }
    },
    {
      "cell_type": "markdown",
      "source": [
        "16). How is Bayes' Theorem used in statistics, and what is its significance?"
      ],
      "metadata": {
        "id": "F2n2n0RD9Z-1"
      }
    },
    {
      "cell_type": "markdown",
      "source": [
        "Ans16)\n",
        "\tBayes' Theorem, a fundamental concept in statistics and probability, allows for updating the probability of a hypothesis based on new evidence, transitioning from prior to posterior probabilities.\n",
        "\n",
        "  "
      ],
      "metadata": {
        "id": "AN6zSsJP9bjG"
      }
    },
    {
      "cell_type": "markdown",
      "source": [
        "17). What is the Chi-square distribution, and when is it used?"
      ],
      "metadata": {
        "id": "liwv7fwi9fo0"
      }
    },
    {
      "cell_type": "markdown",
      "source": [
        "Ans17)\n",
        "\tThe chi-square distribution is a continuous probability distribution used in statistical hypothesis testing, particularly for analyzing categorical data, with two common applications being the chi-square goodness-of-fit test and the chi-square test of independence.\n",
        "\n",
        "  "
      ],
      "metadata": {
        "id": "GqT7ODYr9g-P"
      }
    },
    {
      "cell_type": "markdown",
      "source": [
        "18). What is the Chi-square goodness of fit test, and how is it applied?"
      ],
      "metadata": {
        "id": "Sr2Li8lc9kBC"
      }
    },
    {
      "cell_type": "markdown",
      "source": [
        "Ans18)\n",
        "\tThe chi-square goodness-of-fit test determines if a sample data distribution matches a theoretical distribution by comparing observed and expected frequencies, and is used to assess how well a model fits the data.\n",
        "\n",
        "  "
      ],
      "metadata": {
        "id": "ic8fH6i79lGU"
      }
    },
    {
      "cell_type": "markdown",
      "source": [
        "19). What is the F-distribution, and when is it used in hypothesis testing?"
      ],
      "metadata": {
        "id": "Bs8LNIih9npE"
      }
    },
    {
      "cell_type": "markdown",
      "source": [
        "Ans19)\n",
        "\tThe F-distribution is a continuous probability distribution used in hypothesis testing, particularly for comparing variances of two or more populations,\n",
        "\n",
        "  "
      ],
      "metadata": {
        "id": "BlexJg-v9pII"
      }
    },
    {
      "cell_type": "markdown",
      "source": [
        "20). What is an ANOVA test, and what are its assumptions?"
      ],
      "metadata": {
        "id": "a6Kl7saS9sHi"
      }
    },
    {
      "cell_type": "markdown",
      "source": [
        "Ans20)\n",
        "\tANOVA (Analysis of Variance) is a statistical test used to compare the means of three or more groups, determining if there are significant differences between them, while its key assumptions are normality, independence of observations, and homogeneity of variance.\n",
        "\n",
        "  "
      ],
      "metadata": {
        "id": "cECDZh229uM4"
      }
    },
    {
      "cell_type": "markdown",
      "source": [
        "21).  What are the different types of ANOVA tests?"
      ],
      "metadata": {
        "id": "Xpo2uOcQ9wwa"
      }
    },
    {
      "cell_type": "markdown",
      "source": [
        "Ans21)\n",
        "\tThe main types of ANOVA tests are one-way ANOVA, two-way ANOVA, and repeated measures ANOVA.\n",
        "\n",
        "  "
      ],
      "metadata": {
        "id": "kyVL9Lr29ykT"
      }
    },
    {
      "cell_type": "markdown",
      "source": [
        "22).  What is the F-test, and how does it relate to hypothesis testing?"
      ],
      "metadata": {
        "id": "HCOov6fw91GC"
      }
    },
    {
      "cell_type": "markdown",
      "source": [
        "Ans22)\n",
        "\tThe F-test, a statistical test used in hypothesis testing, compares variances between two or more groups, using the F-statistic, which follows an F-distribution, to determine if there's a significant difference in the means of those groups.\n",
        "  "
      ],
      "metadata": {
        "id": "rZHPuNk092vg"
      }
    },
    {
      "cell_type": "markdown",
      "source": [
        "#                                                 **Practical**\n"
      ],
      "metadata": {
        "id": "lit_7tvz97FX"
      }
    },
    {
      "cell_type": "markdown",
      "source": [
        "1). Write a Python program to perform a Z-test for comparing a sample mean to a known population mean and\n",
        "interpret the results?"
      ],
      "metadata": {
        "id": "uRYCa9CNAn4c"
      }
    },
    {
      "cell_type": "code",
      "source": [
        "import numpy as np\n",
        "from scipy import stats\n",
        "\n",
        "# Sample data\n",
        "sample_data = [4, 5, 6, 7, 8]\n",
        "\n",
        "# Population parameters\n",
        "population_mean = 6\n",
        "population_std = 1.5\n",
        "\n",
        "# Calculate the sample mean and standard error\n",
        "sample_mean = np.mean(sample_data)\n",
        "standard_error = population_std / np.sqrt(len(sample_data))\n",
        "\n",
        "# Calculate the Z-score\n",
        "z_score = (sample_mean - population_mean) / standard_error\n",
        "\n",
        "# Calculate the p-value (two-tailed test)\n",
        "p_value = 2 * (1 - stats.norm.cdf(abs(z_score)))\n",
        "\n",
        "# Print the results\n",
        "print(\"Z-score:\", z_score)\n",
        "print(\"P-value:\", p_value)\n",
        "\n",
        "# Interpret the results\n",
        "alpha = 0.05  # Significance level\n",
        "\n",
        "if p_value < alpha:\n",
        "    print(\"Reject the null hypothesis.\")\n",
        "    print(\"There is sufficient evidence to suggest that the sample mean is significantly different from the population mean.\")\n",
        "else:\n",
        "    print(\"Fail to reject the null hypothesis.\")\n",
        "    print(\"There is not enough evidence to suggest that the sample mean is significantly different from the population mean.\")\n",
        "\n"
      ],
      "metadata": {
        "colab": {
          "base_uri": "https://localhost:8080/"
        },
        "id": "QnMUddvM_3uG",
        "outputId": "b888e865-a32c-46bb-f9e3-0f5b2f99e05d"
      },
      "execution_count": null,
      "outputs": [
        {
          "output_type": "stream",
          "name": "stdout",
          "text": [
            "Z-score: 0.0\n",
            "P-value: 1.0\n",
            "Fail to reject the null hypothesis.\n",
            "There is not enough evidence to suggest that the sample mean is significantly different from the population mean.\n"
          ]
        }
      ]
    },
    {
      "cell_type": "markdown",
      "source": [
        "2). Simulate random data to perform hypothesis testing and calculate the corresponding P-value using Python?"
      ],
      "metadata": {
        "id": "dV9CV22DAvng"
      }
    },
    {
      "cell_type": "code",
      "source": [
        "import numpy as np\n",
        "from scipy import stats\n",
        "\n",
        "# Set random seed for reproducibility\n",
        "np.random.seed(42)\n",
        "\n",
        "# Generate random data for two groups\n",
        "group1 = np.random.normal(loc=10, scale=2, size=50)  # Mean 10, Standard deviation 2\n",
        "group2 = np.random.normal(loc=12, scale=2, size=50)  # Mean 12, Standard deviation 2\n",
        "\n",
        "# Perform two-sample t-test\n",
        "t_statistic, p_value = stats.ttest_ind(group1, group2)\n",
        "\n",
        "# Print the results\n",
        "print(\"T-statistic:\", t_statistic)\n",
        "print(\"P-value:\", p_value)\n",
        "\n",
        "# Interpret the results\n",
        "alpha = 0.05  # Significance level\n",
        "\n",
        "if p_value < alpha:\n",
        "    print(\"Reject the null hypothesis.\")\n",
        "    print(\"There is sufficient evidence to suggest that the means of the two groups are significantly different.\")\n",
        "else:\n",
        "    print(\"Fail to reject the null hypothesis.\")\n",
        "    print(\"There is not enough evidence to suggest that the means of the two groups are significantly different.\")\n",
        "\n"
      ],
      "metadata": {
        "colab": {
          "base_uri": "https://localhost:8080/"
        },
        "id": "y1vnpkFdAzBO",
        "outputId": "f6a680ce-fd87-462d-a807-305721abba9f"
      },
      "execution_count": null,
      "outputs": [
        {
          "output_type": "stream",
          "name": "stdout",
          "text": [
            "T-statistic: -6.872731683285841\n",
            "P-value: 5.877565294167719e-10\n",
            "Reject the null hypothesis.\n",
            "There is sufficient evidence to suggest that the means of the two groups are significantly different.\n"
          ]
        }
      ]
    },
    {
      "cell_type": "markdown",
      "source": [
        "3). Implement a one-sample Z-test using Python to compare the sample mean with the population mean"
      ],
      "metadata": {
        "id": "lZoLwCznBEzh"
      }
    },
    {
      "cell_type": "code",
      "source": [
        "import numpy as np\n",
        "from scipy import stats\n",
        "\n",
        "# Sample data\n",
        "sample_data = [4, 5, 6, 7, 8]\n",
        "\n",
        "# Population parameters\n",
        "population_mean = 6\n",
        "population_std = 1.5\n",
        "\n",
        "# Calculate the sample mean and standard error\n",
        "sample_mean = np.mean(sample_data)\n",
        "standard_error = population_std / np.sqrt(len(sample_data))\n",
        "\n",
        "# Calculate the Z-score\n",
        "z_score = (sample_mean - population_mean) / standard_error\n",
        "\n",
        "# Calculate the p-value (two-tailed test)\n",
        "p_value = 2 * (1 - stats.norm.cdf(abs(z_score)))\n",
        "\n",
        "# Print the results\n",
        "print(\"Z-score:\", z_score)\n",
        "print(\"P-value:\", p_value)\n",
        "\n",
        "# Interpret the results\n",
        "alpha = 0.05  # Significance level\n",
        "\n",
        "if p_value < alpha:\n",
        "    print(\"Reject the null hypothesis.\")\n",
        "    print(\"There is sufficient evidence to suggest that the sample mean is significantly different from the population mean.\")\n",
        "else:\n",
        "    print(\"Fail to reject the null hypothesis.\")\n",
        "    print(\"There is not enough evidence to suggest that the sample mean is significantly different from the population mean.\")\n",
        "\n"
      ],
      "metadata": {
        "colab": {
          "base_uri": "https://localhost:8080/"
        },
        "id": "Shdi3V3mB3y3",
        "outputId": "4bf9795a-0400-4cf7-963f-7999f111158f"
      },
      "execution_count": null,
      "outputs": [
        {
          "output_type": "stream",
          "name": "stdout",
          "text": [
            "Z-score: 0.0\n",
            "P-value: 1.0\n",
            "Fail to reject the null hypothesis.\n",
            "There is not enough evidence to suggest that the sample mean is significantly different from the population mean.\n"
          ]
        }
      ]
    },
    {
      "cell_type": "markdown",
      "source": [
        "4).  Perform a two-tailed Z-test using Python and visualize the decision region on a plot"
      ],
      "metadata": {
        "id": "d6e2SZtFCErX"
      }
    },
    {
      "cell_type": "code",
      "source": [
        "import numpy as np\n",
        "import matplotlib.pyplot as plt\n",
        "from scipy import stats\n",
        "\n",
        "# Sample data and population parameters\n",
        "sample_mean = 5.2\n",
        "population_mean = 5\n",
        "population_std = 1\n",
        "sample_size = 100\n",
        "\n",
        "# Calculate the Z-score and p-value\n",
        "z_score = (sample_mean - population_mean) / (population_std / np.sqrt(sample_size))\n",
        "p_value = 2 * (1 - stats.norm.cdf(abs(z_score)))\n",
        "\n",
        "# Significance level\n",
        "alpha = 0.05\n",
        "\n",
        "# Decision region\n",
        "x = np.linspace(-3, 3, 1000)  # Range for x-axis\n",
        "critical_value = stats.norm.ppf(1 - alpha / 2)  # Critical value for two-tailed test\n",
        "\n",
        "# Plotting\n",
        "plt.figure(figsize=(8, 6))\n",
        "plt.plot(x, stats.norm.pdf(x), label='Standard Normal Distribution')  # Normal curve\n",
        "plt.fill_between(x, stats.norm.pdf(x), where=(x < -critical_value) | (x > critical_value), color='red', alpha=0.3, label='Rejection Region')  # Rejection region\n",
        "plt.axvline(z_score, color='blue', linestyle='--', label='Z-score')  # Z-score line\n",
        "plt.title('Two-Tailed Z-Test Visualization')\n",
        "plt.xlabel('Z-score')\n",
        "plt.ylabel('Probability Density')\n",
        "plt.legend()\n",
        "plt.grid(True)\n",
        "\n",
        "# Print results\n",
        "print(\"Z-score:\", z_score)\n",
        "print(\"P-value:\", p_value)\n",
        "print(\"Critical Value:\", critical_value)\n",
        "\n",
        "if p_value < alpha:\n",
        "    print(\"Reject the null hypothesis.\")\n",
        "else:\n",
        "    print(\"Fail to reject the null hypothesis.\")\n",
        "\n",
        "plt.show()  # Display the plot\n",
        "\n"
      ],
      "metadata": {
        "colab": {
          "base_uri": "https://localhost:8080/",
          "height": 633
        },
        "id": "GUCZ1XzfCLXw",
        "outputId": "3c9eeebb-bfa0-41a4-c808-9c6a76ccb14e"
      },
      "execution_count": null,
      "outputs": [
        {
          "output_type": "stream",
          "name": "stdout",
          "text": [
            "Z-score: 2.0000000000000018\n",
            "P-value: 0.045500263896358195\n",
            "Critical Value: 1.959963984540054\n",
            "Reject the null hypothesis.\n"
          ]
        },
        {
          "output_type": "display_data",
          "data": {
            "text/plain": [
              "<Figure size 800x600 with 1 Axes>"
            ],
            "image/png": "[encoded data removed]"
          },
          "metadata": {}
        }
      ]
    },
    {
      "cell_type": "markdown",
      "source": [
        "5).  Create a Python function that calculates and visualizes Type 1 and Type 2 errors during hypothesis testing?"
      ],
      "metadata": {
        "id": "ykFietuACcLk"
      }
    },
    {
      "cell_type": "code",
      "source": [
        "import numpy as np\n",
        "import matplotlib.pyplot as plt\n",
        "from scipy import stats\n",
        "\n",
        "def visualize_errors(mu0, mu1, sigma, n, alpha):\n",
        "    \"\"\"\n",
        "    Calculates and visualizes Type 1 and Type 2 errors.\n",
        "\n",
        "Args:\n",
        "    mu0: Population mean under the null hypothesis.\n",
        "    mu1: Population mean under the alternative hypothesis.\n",
        "    sigma: Population standard deviation.\n",
        "    n: Sample size.\n",
        "    alpha: Significance level.\n",
        "\n",
        "    Returns:\n",
        "        None\n",
        "    \"\"\"\n",
        "\n",
        "\n",
        "   # Critical value for alpha\n",
        "    critical_value = stats.norm.ppf(1 - alpha)\n",
        "\n",
        "   # Distribution under null hypothesis\n",
        "    x0 = np.linspace(mu0 - 3 * sigma, mu0 + 3 * sigma, 1000)\n",
        "    y0 = stats.norm.pdf(x0, mu0, sigma / np.sqrt(n))\n",
        "\n",
        "   # Distribution under alternative hypothesis\n",
        "    x1 = np.linspace(mu1 - 3 * sigma, mu1 + 3 * sigma, 1000)\n",
        "    y1 = stats.norm.pdf(x1, mu1, sigma / np.sqrt(n))\n",
        "\n",
        "    # Distribution under alternative hypothesis\n",
        "    x1 = np.linspace(mu1 - 3 * sigma, mu1 + 3 * sigma, 1000)\n",
        "    y1 = stats.norm.pdf(x1, mu1, sigma / np.sqrt(n))\n",
        "\n",
        "    #Plotting\n",
        "    plt.figure(figsize=(10, 6))\n",
        "    plt.plot(x0, y0, label='Null Hypothesis')\n",
        "    plt.plot(x1, y1, label='Alternative Hypothesis')\n",
        "\n",
        "    #Type 1 Error\n",
        "    plt.fill_between(x0, y0, where=(x0 > mu0 + critical_value * sigma / np.sqrt(n)), color='red', alpha=0.3, label='Type 1 Error')\n",
        "    #Type 2 Error\n",
        "    plt.fill_between(x1, y1, where=(x1 < mu0 + critical_value * sigma / np.sqrt(n)), color='blue', alpha=0.3, label='Type 2 Error')\n",
        "\n",
        "    plt.title('Type 1 and Type 2 Errors')\n",
        "    plt.xlabel('Sample Mean')\n",
        "    plt.ylabel('Probability Density')\n",
        "    plt.legend()\n",
        "    plt.grid(True)\n",
        "    plt.show()\n",
        "\n",
        "\n",
        "    #Calculate beta\n",
        "    beta = stats.norm.cdf(mu0 + critical_value * sigma / np.sqrt(n), loc=mu1, scale=sigma / np.sqrt(n))\n",
        "\n",
        "    print(f\"Type 1 Error (alpha): {alpha}\")\n",
        "    print(f\"Type 2 Error (beta): {beta}\")\n",
        "    print(f\"Power (1 - beta): {1 - beta}\")"
      ],
      "metadata": {
        "id": "lxlv_DXtC7Ld"
      },
      "execution_count": null,
      "outputs": []
    },
    {
      "cell_type": "markdown",
      "source": [
        "6).Write a Python program to perform an independent T-test and interpret the results"
      ],
      "metadata": {
        "id": "sX8uSvSWvmKT"
      }
    },
    {
      "cell_type": "code",
      "source": [
        "import numpy as np\n",
        "from scipy import stats\n",
        "\n",
        "# Generate random data for two groups\n",
        "group1 = np.random.normal(loc=10, scale=2, size=50)  # Mean 10, Standard deviation 2\n",
        "group2 = np.random.normal(loc=12, scale=2, size=50)  # Mean 12, Standard deviation 2\n",
        "\n",
        "# Perform independent t-test\n",
        "t_statistic, p_value = stats.ttest_ind(group1, group2)\n",
        "\n",
        "# Print the results\n",
        "print(\"T-statistic:\", t_statistic)\n",
        "print(\"P-value:\", p_value)\n",
        "\n",
        "# Interpret the results\n",
        "alpha = 0.05  # Significance level\n",
        "\n",
        "if p_value < alpha:\n",
        "    print(\"Reject the null hypothesis.\")\n",
        "    print(\"There is sufficient evidence to suggest that the means of the two groups are significantly different.\")\n",
        "else:\n",
        "    print(\"Fail to reject the null hypothesis.\")\n",
        "    print(\"There is not enough evidence to suggest that the means of the two groups are significantly different.\")"
      ],
      "metadata": {
        "colab": {
          "base_uri": "https://localhost:8080/"
        },
        "id": "ylGC6jBBv9ri",
        "outputId": "d4ee7915-bd84-4d37-fdbe-52a30a783bec"
      },
      "execution_count": null,
      "outputs": [
        {
          "output_type": "stream",
          "name": "stdout",
          "text": [
            "T-statistic: -4.731422768483284\n",
            "P-value: 7.498899907101159e-06\n",
            "Reject the null hypothesis.\n",
            "There is sufficient evidence to suggest that the means of the two groups are significantly different.\n"
          ]
        }
      ]
    },
    {
      "cell_type": "markdown",
      "source": [
        "7).Perform a paired sample T-test using Python and visualize the comparison results"
      ],
      "metadata": {
        "id": "TtFyw6hhwOkB"
      }
    },
    {
      "cell_type": "code",
      "source": [
        "import numpy as np\n",
        "from scipy import stats\n",
        "import matplotlib.pyplot as plt\n",
        "\n",
        "# Generate random data for two related groups\n",
        "np.random.seed(42)  # Set seed for reproducibility\n",
        "group1 = np.random.normal(loc=10, scale=2, size=30)\n",
        "group2 = group1 + np.random.normal(loc=1, scale=1, size=30)  # Introduce a difference\n",
        "\n",
        "# Perform paired sample t-test\n",
        "t_statistic, p_value = stats.ttest_rel(group1, group2)\n",
        "\n",
        "# Print the results\n",
        "print(\"T-statistic:\", t_statistic)\n",
        "print(\"P-value:\", p_value)\n",
        "\n",
        "# Interpret the results\n",
        "alpha = 0.05  # Significance level\n",
        "\n",
        "if p_value < alpha:\n",
        "    print(\"Reject the null hypothesis.\")\n",
        "    print(\"There is sufficient evidence to suggest that the means of the two paired groups are significantly different.\")\n",
        "else:\n",
        "    print(\"Fail to reject the null hypothesis.\")\n",
        "    print(\"There is not enough evidence to suggest that the means of the two paired groups are significantly different.\")\n",
        "\n",
        "# Visualization\n",
        "plt.figure(figsize=(8, 6))\n",
        "plt.scatter(group1, group2, color='blue', alpha=0.7)\n",
        "plt.plot([np.min(group1), np.max(group1)], [np.min(group1), np.max(group1)], color='red', linestyle='--', label='Line of Equality')  # Line of equality\n",
        "plt.xlabel('Group 1')\n",
        "plt.ylabel('Group 2')\n",
        "plt.title('Paired Sample T-test Visualization')\n",
        "plt.legend()\n",
        "plt.grid(True)\n",
        "plt.show()\n"
      ],
      "metadata": {
        "colab": {
          "base_uri": "https://localhost:8080/",
          "height": 633
        },
        "id": "VLVMnbg8wXJA",
        "outputId": "f8a978f8-3ffc-4abd-c8d1-87ed4a892a22"
      },
      "execution_count": null,
      "outputs": [
        {
          "output_type": "stream",
          "name": "stdout",
          "text": [
            "T-statistic: -5.169777716423581\n",
            "P-value: 1.5823343932441843e-05\n",
            "Reject the null hypothesis.\n",
            "There is sufficient evidence to suggest that the means of the two paired groups are significantly different.\n"
          ]
        },
        {
          "output_type": "display_data",
          "data": {
            "text/plain": [
              "<Figure size 800x600 with 1 Axes>"
            ],
            "image/png": "[encoded data removed]"
          },
          "metadata": {}
        }
      ]
    },
    {
      "cell_type": "markdown",
      "source": [
        "8).Simulate data and perform both Z-test and T-test, then compare the results using Python"
      ],
      "metadata": {
        "id": "xHGVGBoCwte-"
      }
    },
    {
      "cell_type": "code",
      "source": [
        "import numpy as np\n",
        "from scipy import stats\n",
        "\n",
        "# Set random seed for reproducibility\n",
        "np.random.seed(42)\n",
        "\n",
        "# Generate random data\n",
        "sample_size = 30\n",
        "population_mean = 50\n",
        "population_std = 5\n",
        "sample = np.random.normal(population_mean, population_std, sample_size)\n",
        "\n",
        "# Z-test\n",
        "z_statistic, p_value_z = stats.ttest_1samp(sample, population_mean)  # Using ttest_1samp for Z-test (large sample)\n",
        "print(\"Z-test:\")\n",
        "print(\"Z-statistic:\", z_statistic)\n",
        "print(\"P-value (Z-test):\", p_value_z)\n",
        "\n",
        "# T-test\n",
        "t_statistic, p_value_t = stats.ttest_1samp(sample, population_mean)\n",
        "print(\"\\nT-test:\")\n",
        "print(\"T-statistic:\", t_statistic)\n",
        "print(\"P-value (T-test):\", p_value_t)\n",
        "\n",
        "# Compare results\n",
        "print(\"\\nComparison:\")\n",
        "print(\"Difference in statistics:\", abs(z_statistic - t_statistic))\n",
        "print(\"Difference in p-values:\", abs(p_value_z - p_value_t))"
      ],
      "metadata": {
        "colab": {
          "base_uri": "https://localhost:8080/"
        },
        "id": "JlOyToBuw3lV",
        "outputId": "0352740e-3e36-423f-e493-596dac9690b6"
      },
      "execution_count": null,
      "outputs": [
        {
          "output_type": "stream",
          "name": "stdout",
          "text": [
            "Z-test:\n",
            "Z-statistic: -1.1450173670383355\n",
            "P-value (Z-test): 0.26156414618801277\n",
            "\n",
            "T-test:\n",
            "T-statistic: -1.1450173670383355\n",
            "P-value (T-test): 0.26156414618801277\n",
            "\n",
            "Comparison:\n",
            "Difference in statistics: 0.0\n",
            "Difference in p-values: 0.0\n"
          ]
        }
      ]
    },
    {
      "cell_type": "markdown",
      "source": [
        "9).Write a Python function to calculate the confidence interval for a sample mean and explain its significance."
      ],
      "metadata": {
        "id": "qH76wjggw5wa"
      }
    },
    {
      "cell_type": "code",
      "source": [
        "import numpy as np\n",
        "from scipy import stats\n",
        "\n",
        "def confidence_interval(data, confidence=0.95):\n",
        "    \"\"\"\n",
        "    Calculates the confidence interval for a sample mean.\n",
        "\n",
        "    Args:\n",
        "        data: A list or numpy array of sample data.\n",
        "        confidence: The desired confidence level (default is 0.95).\n",
        "    Returns:\n",
        "        A tuple representing the lower and upper bounds of the confidence interval.\n",
        "    \"\"\"\n",
        "    n = len(data)\n",
        "    mean = np.mean(data)\n",
        "    sem = stats.sem(data)  # Standard error of the mean\n",
        "    interval = stats.t.interval(confidence, n - 1, loc=mean, scale=sem)\n",
        "    return interval\n",
        "# Example usage:\n",
        "data = [10, 12, 14, 11, 13, 15, 12, 10, 14, 13]\n",
        "confidence_level = 0.95\n",
        "lower, upper = confidence_interval(data, confidence_level)\n",
        "print(f\"{confidence_level*100:.0f}% Confidence Interval: ({lower:.2f}, {upper:.2f})\")\n"
      ],
      "metadata": {
        "colab": {
          "base_uri": "https://localhost:8080/"
        },
        "id": "zvDz6XStxEj1",
        "outputId": "2334c136-7888-4876-d905-65c54894ae46"
      },
      "execution_count": null,
      "outputs": [
        {
          "output_type": "stream",
          "name": "stdout",
          "text": [
            "95% Confidence Interval: (11.17, 13.63)\n"
          ]
        }
      ]
    },
    {
      "cell_type": "markdown",
      "source": [
        "10).Write a Python program to calculate the margin of error for a given confidence level using sample data."
      ],
      "metadata": {
        "id": "eWzxVFabx37p"
      }
    },
    {
      "cell_type": "code",
      "source": [
        "from logging import critical\n",
        "import numpy as np\n",
        "from scipy import stats\n",
        "\n",
        "def margin_of_error(data, confidence=0.95):\n",
        "\n",
        "  \"\"\"\n",
        "  Calculates the margin of error for a given confidence level using sample data.\n",
        "\n",
        "  Args:\n",
        "      data: A list or numpy array of sample data.\n",
        "      confidence: The desired confidence level (default is 0.95).\n",
        "\n",
        "  Returns:\n",
        "      The margin of error.\n",
        "  \"\"\"\n",
        "  n = len(data)\n",
        "  sem = stats.sem(data)  # Standard error of the mean\n",
        "  critical_value = stats.t.ppf(1 - (1 - confidence) / 2, n - 1)\n",
        "  margin_of_error = critical_value * sem\n",
        "  return margin_of_error\n",
        "\n",
        "\n",
        "\n",
        "data = [10, 12, 14, 11, 13, 15, 12, 10, 14, 13]\n",
        "confidence_level = 0.95\n",
        "moe = margin_of_error(data, confidence_level)\n",
        "print(f\"Margin of Error ({confidence_level*100:.0f}% confidence): {moe:.2f}\")\n"
      ],
      "metadata": {
        "colab": {
          "base_uri": "https://localhost:8080/"
        },
        "id": "XHl6gER5yJlG",
        "outputId": "08ea9a8e-dacc-484f-dc1a-1669888ff185"
      },
      "execution_count": null,
      "outputs": [
        {
          "output_type": "stream",
          "name": "stdout",
          "text": [
            "Margin of Error (95% confidence): 1.23\n"
          ]
        }
      ]
    },
    {
      "cell_type": "markdown",
      "source": [
        "11).Implement a Bayesian inference method using Bayes' Theorem in Python and explain the process."
      ],
      "metadata": {
        "id": "vyP79ZYYzPoA"
      }
    },
    {
      "cell_type": "code",
      "source": [
        "import numpy as np\n",
        "\n",
        "def bayesian_inference(prior, likelihood, evidence):\n",
        "    \"\"\"\n",
        "    Performs Bayesian inference using Bayes' Theorem.\n",
        "\n",
        "    Args:\n",
        "        prior: Prior probability distribution.\n",
        "        likelihood: Likelihood function.\n",
        "        evidence: observed data.\n",
        "\n",
        "    Returns:\n",
        "        Posterior probability.\n",
        "    \"\"\"\n",
        "    posterior = prior * likelihood(evidence)\n",
        "    posterior /= posterior / np.sum(posterior)\n",
        "\n",
        "    return posterior\n",
        "# Define prior probabilities (e.g., for two hypotheses)\n",
        "prior = np.array([0.3, 0.7])  # Prior belief: Hypothesis 0 has 30% probability, Hypothesis 1 has 70%\n",
        "\n",
        "\n",
        "def likelihood(data):\n",
        "\n",
        "    \"\"\"\n",
        "    Likelihood function for a coin toss.\n",
        "    Args:\n",
        "        data: Observed data (number of heads in a sequence of tosses).\n",
        "    Returns:\n",
        "        Likelihood probabilities for each hypothesis.\n",
        "\n",
        "    \"\"\"\n",
        "    num_heads = data\n",
        "    num_tosses = 10  # Assume 10 coin tosses\n",
        "\n",
        "    likelihood_h0 = stats.binom.pmf(num_heads, num_tosses, 0.5)\n",
        "    likelihood_h1 = stats.binom.pmf(num_heads, num_tosses, 0.7)\n",
        "\n",
        "    return np.array([likelihood_h0, likelihood_h1])\n",
        "\n",
        "\n",
        "evidence = 7\n",
        "\n",
        "# Perform Bayesian inference\n",
        "posterior = bayesian_inference(prior, likelihood, evidence)\n",
        "\n",
        "# Print results\n",
        "print(\"Posterior probabilities:\")\n",
        "print(f\"Hypothesis 0: {posterior[0]:.4f}\")\n",
        "print(f\"Hypothesis 1: {posterior[1]:.4f}\")\n"
      ],
      "metadata": {
        "colab": {
          "base_uri": "https://localhost:8080/"
        },
        "id": "l5KkjlHDzdtE",
        "outputId": "7f102c42-84b1-4d2b-e15a-714866fdc0ec"
      },
      "execution_count": null,
      "outputs": [
        {
          "output_type": "stream",
          "name": "stdout",
          "text": [
            "Posterior probabilities:\n",
            "Hypothesis 0: 0.2219\n",
            "Hypothesis 1: 0.2219\n"
          ]
        }
      ]
    },
    {
      "cell_type": "markdown",
      "source": [
        "12).\n",
        "Perform a Chi-square test for independence between two categorical variables in Python"
      ],
      "metadata": {
        "id": "mpUD1zn71fKp"
      }
    },
    {
      "cell_type": "code",
      "source": [
        "import pandas as pd\n",
        "from scipy.stats import chi2_contingency\n",
        "\n",
        "# Sample data (replace with your actual data)\n",
        "data = {'Gender': ['Male', 'Male', 'Female', 'Female', 'Male', 'Female', 'Male', 'Female', 'Male', 'Female'],\n",
        "        'Preference': ['Coffee', 'Tea', 'Coffee', 'Coffee', 'Tea', 'Tea', 'Coffee', 'Tea', 'Coffee', 'Coffee']}\n",
        "df = pd.DataFrame(data)\n",
        "\n",
        "# Create contingency table\n",
        "contingency_table = pd.crosstab(df['Gender'], df['Preference'])\n",
        "\n",
        "# Perform Chi-square test\n",
        "chi2, p, dof, expected = chi2_contingency(contingency_table)\n",
        "\n",
        "# Print the results\n",
        "print(\"Chi-square statistic:\", chi2)\n",
        "print(\"P-value:\", p)\n",
        "print(\"Degrees of freedom:\", dof)\n",
        "print(\"Expected frequencies:\", expected)\n",
        "\n",
        "# Interpret the results\n",
        "alpha = 0.05  # Significance level\n",
        "if p < alpha:\n",
        "    print(\"Reject the null hypothesis.\")\n",
        "    print(\"There is a significant association between gender and preference.\")\n",
        "else:\n",
        "    print(\"Fail to reject the null hypothesis.\")\n",
        "    print(\"There is no significant association between gender and preference.\")\n",
        "\n"
      ],
      "metadata": {
        "colab": {
          "base_uri": "https://localhost:8080/"
        },
        "id": "K4FU33Fo1mgt",
        "outputId": "c809de69-3ec7-4f41-b63f-3a4097c00ee1"
      },
      "execution_count": null,
      "outputs": [
        {
          "output_type": "stream",
          "name": "stdout",
          "text": [
            "Chi-square statistic: 0.0\n",
            "P-value: 1.0\n",
            "Degrees of freedom: 1\n",
            "Expected frequencies: [[3. 2.]\n",
            " [3. 2.]]\n",
            "Fail to reject the null hypothesis.\n",
            "There is no significant association between gender and preference.\n"
          ]
        }
      ]
    },
    {
      "cell_type": "markdown",
      "source": [
        "13).Write a Python program to calculate the expected frequencies for a Chi-square test based on observed\n",
        "data"
      ],
      "metadata": {
        "id": "IU6BjYv617EG"
      }
    },
    {
      "cell_type": "code",
      "source": [
        "import numpy as np\n",
        "\n",
        "def calculate_expected_frequencies(observed_frequencies):\n",
        "  \"\"\"\n",
        "    Calculates the expected frequencies for a Chi-square test based on observed data.\n",
        "\n",
        "    Args:\n",
        "        observed_frequencies: A 1D array of observed frequencies.\n",
        "\n",
        "    Returns:\n",
        "        A 1D array of expected frequencies.\n",
        "  \"\"\"\n",
        "  # Calculate row and column totals\n",
        "\n",
        "\n",
        "  row_totals = observed_frequencies.sum(axis=1)\n",
        "  col_totals = observed_frequencies.sum(axis=0)\n",
        "  grand_total = observed_frequencies.sum()\n",
        "\n",
        "\n",
        "  expected_frequencies = np.outer(row_totals, col_totals) / grand_total\n",
        "\n",
        "  return expected_frequencies\n",
        "\n",
        "observed_data = np.array([[10, 20], [30, 40]])  # Example observed frequencies\n",
        "expected_data = calculate_expected_frequencies(observed_data)\n",
        "\n",
        "print(\"Observed Frequencies:\")\n",
        "print(observed_data)\n",
        "print(\"\\nExpected Frequencies:\")\n",
        "print(expected_data)"
      ],
      "metadata": {
        "colab": {
          "base_uri": "https://localhost:8080/"
        },
        "id": "Ok1aHl0b2BU5",
        "outputId": "34d8e2a3-7544-46a1-ba6c-39f04faecc5b"
      },
      "execution_count": null,
      "outputs": [
        {
          "output_type": "stream",
          "name": "stdout",
          "text": [
            "Observed Frequencies:\n",
            "[[10 20]\n",
            " [30 40]]\n",
            "\n",
            "Expected Frequencies:\n",
            "[[12. 18.]\n",
            " [28. 42.]]\n"
          ]
        }
      ]
    },
    {
      "cell_type": "markdown",
      "source": [
        "14).  Perform a goodness-of-fit test using Python to compare the observed data to an expected distribution\n"
      ],
      "metadata": {
        "id": "jpFu2rOF4M79"
      }
    },
    {
      "cell_type": "code",
      "source": [
        "import numpy as np\n",
        "from scipy import stats\n",
        "\n",
        "# Observed data\n",
        "observed_data = np.array([10, 20, 30, 40, 50])\n",
        "\n",
        "# Expected distribution (proportions)\n",
        "expected_distribution = np.array([0.1, 0.2, 0.3, 0.2, 0.2])\n",
        "\n",
        "# Calculate expected frequencies\n",
        "expected_frequencies = expected_distribution * np.sum(observed_data)\n",
        "\n",
        "# Perform Chi-square goodness-of-fit test\n",
        "chi2_statistic, p_value = stats.chisquare(observed_data, expected_frequencies)\n",
        "\n",
        "# Print the results\n",
        "print(\"Chi-square statistic:\", chi2_statistic)\n",
        "print(\"P-value:\", p_value)\n",
        "\n",
        "# Interpret the results\n",
        "alpha = 0.05  # Significance level\n",
        "if p_value < alpha:\n",
        "    print(\"Reject the null hypothesis.\")\n",
        "    print(\"The observed data does not fit the expected distribution.\")\n",
        "else:\n",
        "    print(\"Fail to reject the null hypothesis.\")\n",
        "    print(\"The observed data fits the expected distribution.\")\n",
        "\n",
        "\n"
      ],
      "metadata": {
        "colab": {
          "base_uri": "https://localhost:8080/"
        },
        "id": "vaf0hhNg5F3h",
        "outputId": "ce8cdae1-bd6c-4da6-d101-257c1a6d3df9"
      },
      "execution_count": null,
      "outputs": [
        {
          "output_type": "stream",
          "name": "stdout",
          "text": [
            "Chi-square statistic: 26.666666666666668\n",
            "P-value: 2.3214220689814074e-05\n",
            "Reject the null hypothesis.\n",
            "The observed data does not fit the expected distribution.\n"
          ]
        }
      ]
    },
    {
      "cell_type": "markdown",
      "source": [
        "15). Create a Python script to simulate and visualize the Chi-square distribution and discuss its characteristics"
      ],
      "metadata": {
        "id": "H6t3YO8oJLTZ"
      }
    },
    {
      "cell_type": "code",
      "source": [
        "import numpy as np\n",
        "import matplotlib.pyplot as plt\n",
        "from scipy import stats\n",
        "\n",
        "# Parameters for the Chi-square distribution\n",
        "degrees_of_freedom = 5  # You can change this value\n",
        "\n",
        "# Generate random samples from the Chi-square distribution\n",
        "random_samples = stats.chi2.rvs(df=degrees_of_freedom, size=10000)\n",
        "\n",
        "# Create a histogram of the simulated data\n",
        "plt.hist(random_samples, bins=50, density=True, alpha=0.7, color='skyblue', edgecolor='black')\n",
        "\n",
        "# Plot the theoretical Chi-square distribution\n",
        "x = np.linspace(0, 20, 100)  # Adjust the range as needed\n",
        "pdf = stats.chi2.pdf(x, df=degrees_of_freedom)\n",
        "plt.plot(x, pdf, color='red', linewidth=2, label=f'Chi-square ({degrees_of_freedom} df)')\n",
        "\n",
        "# Customize the plot\n",
        "plt.title('Chi-square Distribution')\n",
        "plt.xlabel('Value')\n",
        "plt.ylabel('Probability Density')\n",
        "plt.legend()\n",
        "plt.grid(True)\n",
        "\n",
        "plt.show()\n",
        "\n",
        "# Characteristics of the Chi-square distribution:\n",
        "\n",
        "# 1. Shape: It's a right-skewed distribution (tail on the right).\n",
        "# 2. Degrees of freedom (df): This parameter determines the shape of the distribution.\n",
        "#    Higher df leads to a less skewed distribution.\n",
        "# 3. Non-negative: Chi-square values are always greater than or equal to 0.\n",
        "# 4. Relationship to normal distribution: It's related to the sum of squared\n",
        "#    standard normal random variables.\n",
        "# 5. Applications: Widely used in hypothesis testing, especially for goodness-of-fit\n",
        "#    tests, tests of independence, and confidence intervals for variance."
      ],
      "metadata": {
        "colab": {
          "base_uri": "https://localhost:8080/",
          "height": 472
        },
        "id": "O4LTUjKKJe4S",
        "outputId": "028399f7-77dc-4d47-ce0c-154b9d1afccd"
      },
      "execution_count": null,
      "outputs": [
        {
          "output_type": "display_data",
          "data": {
            "text/plain": [
              "<Figure size 640x480 with 1 Axes>"
            ],
            "image/png": "[encoded data removed]"
          },
          "metadata": {}
        }
      ]
    },
    {
      "cell_type": "markdown",
      "source": [
        "16).Implement an F-test using Python to compare the variances of two random samples"
      ],
      "metadata": {
        "id": "vuH9HphlJmVo"
      }
    },
    {
      "cell_type": "code",
      "source": [
        "import numpy as np\n",
        "from scipy import stats\n",
        "\n",
        "# Generate two random samples\n",
        "sample1 = np.random.normal(loc=10, scale=2, size=30)  # Mean 10, Standard deviation 2\n",
        "sample2 = np.random.normal(loc=12, scale=3, size=40)  # Mean 12, Standard deviation 3\n",
        "\n",
        "# Perform F-test\n",
        "f_statistic, p_value = stats.f_oneway(sample1, sample2)\n",
        "\n",
        "# Print the results\n",
        "print(\"F-statistic:\", f_statistic)\n",
        "print(\"P-value:\", p_value)\n",
        "\n",
        "# Interpret the results\n",
        "alpha = 0.05  # Significance level\n",
        "if p_value < alpha:\n",
        "    print(\"Reject the null hypothesis.\")\n",
        "    print(\"There is a significant difference in the variances of the two samples.\")\n",
        "else:\n",
        "    print(\"Fail to reject the null hypothesis.\")\n",
        "    print(\"There is no significant difference in the variances of the two samples.\")\n",
        "\n",
        "\n"
      ],
      "metadata": {
        "colab": {
          "base_uri": "https://localhost:8080/"
        },
        "id": "sDTYONnyJysB",
        "outputId": "9e23663e-ea61-43dc-f5eb-6556bba5d2ab"
      },
      "execution_count": null,
      "outputs": [
        {
          "output_type": "stream",
          "name": "stdout",
          "text": [
            "F-statistic: 8.806052585785704\n",
            "P-value: 0.004141509097109921\n",
            "Reject the null hypothesis.\n",
            "There is a significant difference in the variances of the two samples.\n"
          ]
        }
      ]
    },
    {
      "cell_type": "markdown",
      "source": [
        "17).Write a Python program to perform an ANOVA test to compare means between multiple groups and\n",
        "interpret the results"
      ],
      "metadata": {
        "id": "NFFCW6jUKFra"
      }
    },
    {
      "cell_type": "code",
      "source": [
        "import numpy as np\n",
        "from scipy import stats\n",
        "\n",
        "# Create sample data for three groups\n",
        "group1 = np.random.normal(loc=10, scale=2, size=30)\n",
        "group2 = np.random.normal(loc=12, scale=2, size=30)\n",
        "group3 = np.random.normal(loc=15, scale=2, size=30)\n",
        "\n",
        "# Perform one-way ANOVA\n",
        "f_statistic, p_value = stats.f_oneway(group1, group2, group3)\n",
        "\n",
        "# Print the results\n",
        "print(\"F-statistic:\", f_statistic)\n",
        "print(\"P-value:\", p_value)\n",
        "\n",
        "# Interpret the results\n",
        "alpha = 0.05  # Significance level\n",
        "if p_value < alpha:\n",
        "    print(\"Reject the null hypothesis.\")\n",
        "    print(\"There is a significant difference in means between the groups.\")\n",
        "else:\n",
        "    print(\"Fail to reject the null hypothesis.\")\n",
        "    print(\"There is no significant difference in means between the groups.\")\n",
        "\n"
      ],
      "metadata": {
        "colab": {
          "base_uri": "https://localhost:8080/"
        },
        "id": "hMZZ9ZMoKK7W",
        "outputId": "72dac9d2-839d-43c7-d0d3-ab5df9b14836"
      },
      "execution_count": null,
      "outputs": [
        {
          "output_type": "stream",
          "name": "stdout",
          "text": [
            "F-statistic: 31.600127961056604\n",
            "P-value: 4.829622972179476e-11\n",
            "Reject the null hypothesis.\n",
            "There is a significant difference in means between the groups.\n"
          ]
        }
      ]
    },
    {
      "cell_type": "markdown",
      "source": [
        "18).Perform a one-way ANOVA test using Python to compare the means of different groups and plot the results"
      ],
      "metadata": {
        "id": "5vH36l-EKcaY"
      }
    },
    {
      "cell_type": "code",
      "source": [
        "import numpy as np\n",
        "import matplotlib.pyplot as plt\n",
        "from scipy import stats\n",
        "\n",
        "# Create sample data for three groups\n",
        "group1 = np.random.normal(loc=10, scale=2, size=30)\n",
        "group2 = np.random.normal(loc=12, scale=2, size=30)\n",
        "group3 = np.random.normal(loc=15, scale=2, size=30)\n",
        "\n",
        "# Perform one-way ANOVA\n",
        "f_statistic, p_value = stats.f_oneway(group1, group2, group3)\n",
        "\n",
        "# Print the results\n",
        "print(\"F-statistic:\", f_statistic)\n",
        "print(\"P-value:\", p_value)\n",
        "\n",
        "# Create box plot to visualize the data\n",
        "plt.figure(figsize=(8, 6))\n",
        "plt.boxplot([group1, group2, group3], labels=['Group 1', 'Group 2', 'Group 3'])\n",
        "plt.title('One-way ANOVA: Comparison of Means')\n",
        "plt.ylabel('Value')\n",
        "plt.grid(True)\n",
        "\n",
        "# Add ANOVA results to the plot\n",
        "plt.text(1.5, max(group1.max(), group2.max(), group3.max()) + 1,\n",
        "         f'F-statistic: {f_statistic:.2f}\\nP-value: {p_value:.3f}',\n",
        "         ha='center', va='bottom')\n",
        "\n",
        "plt.show()\n",
        "\n"
      ],
      "metadata": {
        "colab": {
          "base_uri": "https://localhost:8080/",
          "height": 655
        },
        "id": "x0P2q247Ko-1",
        "outputId": "e15fcc0f-21d3-4a87-87c4-67121de57979"
      },
      "execution_count": null,
      "outputs": [
        {
          "output_type": "stream",
          "name": "stdout",
          "text": [
            "F-statistic: 66.26116216044464\n",
            "P-value: 3.271631414048409e-18\n"
          ]
        },
        {
          "output_type": "stream",
          "name": "stderr",
          "text": [
            "<ipython-input-16-14d483e1cc83>:19: MatplotlibDeprecationWarning: The 'labels' parameter of boxplot() has been renamed 'tick_labels' since Matplotlib 3.9; support for the old name will be dropped in 3.11.\n",
            "  plt.boxplot([group1, group2, group3], labels=['Group 1', 'Group 2', 'Group 3'])\n"
          ]
        },
        {
          "output_type": "display_data",
          "data": {
            "text/plain": [
              "<Figure size 800x600 with 1 Axes>"
            ],
            "image/png": "[encoded data removed]"
          },
          "metadata": {}
        }
      ]
    },
    {
      "cell_type": "markdown",
      "source": [
        "19).Write a Python function to check the assumptions (normality, independence, and equal variance) for ANOVAD"
      ],
      "metadata": {
        "id": "MtD8OjFtK0I6"
      }
    },
    {
      "cell_type": "code",
      "source": [
        "import numpy as np\n",
        "import scipy.stats as stats\n",
        "import statsmodels.stats.api as sms\n",
        "\n",
        "def check_anova_assumptions(data, groups):\n",
        "    \"\"\"\n",
        "    Checks the assumptions for ANOVA: normality, independence, and equal variance.\n",
        "    Args:\n",
        "        data: A 1D array of data values.\n",
        "        groups: A 1D array of group labels corresponding to the data values.\n",
        "    Returns:\n",
        "        None (prints the results of the assumption checks)\n",
        "    \"\"\"\n",
        "    print(\"Normality Check (Shapiro-Wilk test):\")\n",
        "    for group in np.unique(groups):\n",
        "        group_data = data[groups == group]\n",
        "        shapiro_statistic, p_value = stats.shapiro(group_data)\n",
        "        print(f\"Group {group}: Shapiro-Wilk statistic = {shapiro_statistic:.3f}, p-value = {p_value:.3f}\")\n",
        "        if p_value < 0.05:\n",
        "            print(f\"  Warning: Data in group {group} may not be normally distributed.\")\n",
        "    print(\"\\nIndependence Assumption: Visual inspection required.\")\n",
        "    levene_statistic, p_value = stats.levene(*[data[groups == group] for group in np.unique(groups)])\n",
        "    print(f\"Levene's statistic = {levene_statistic:.3f}, p-value = {p_value:.3f}\")\n",
        "    if p_value < 0.05:\n",
        "         print(\"  Warning: Variances may not be equal across groups.\")\n",
        "    bartlett_statistic, p_value = stats.bartlett(*[data[groups == group] for group in np.unique(groups)])\n",
        "\n",
        "    print(f\"Bartlett's statistic = {bartlett_statistic:.3f}, p-value = {p_value:.3f}\")\n",
        "\n",
        "    if p_value < 0.05:\n",
        "        print(\"  Warning: Variances may not be equal across groups (Bartlett's test).\")\n",
        "data = np.concatenate([np.random.normal(10, 2, 30), np.random.normal(12, 2, 30), np.random.normal(15, 2, 30)])\n",
        "groups = np.array(['Group 1'] * 30 + ['Group 2'] * 30 + ['Group 3'] * 30)\n",
        "check_anova_assumptions(data, groups)"
      ],
      "metadata": {
        "colab": {
          "base_uri": "https://localhost:8080/"
        },
        "id": "BXYz380SK-zu",
        "outputId": "4541a382-761d-4cc0-edf8-d117f5dd033e"
      },
      "execution_count": null,
      "outputs": [
        {
          "output_type": "stream",
          "name": "stdout",
          "text": [
            "Normality Check (Shapiro-Wilk test):\n",
            "Group Group 1: Shapiro-Wilk statistic = 0.959, p-value = 0.300\n",
            "Group Group 2: Shapiro-Wilk statistic = 0.979, p-value = 0.809\n",
            "Group Group 3: Shapiro-Wilk statistic = 0.959, p-value = 0.289\n",
            "\n",
            "Independence Assumption: Visual inspection required.\n",
            "Levene's statistic = 0.248, p-value = 0.781\n",
            "Bartlett's statistic = 1.604, p-value = 0.448\n"
          ]
        }
      ]
    },
    {
      "cell_type": "markdown",
      "source": [
        "20). Perform a two-way ANOVA test using Python to study the interaction between two factors and visualize the\n",
        "results."
      ],
      "metadata": {
        "id": "18rxbj3-cJuT"
      }
    },
    {
      "cell_type": "code",
      "source": [
        "import numpy as np\n",
        "import pandas as pd\n",
        "import statsmodels.formula.api as sm\n",
        "import matplotlib.pyplot as plt\n",
        "import seaborn as sns\n",
        "\n",
        "# Generate sample data (replace with your actual data)\n",
        "np.random.seed(123)  # Set seed for reproducibility\n",
        "n = 30  # Number of observations per group\n",
        "factor1 = np.repeat(['A', 'B'], n)\n",
        "factor2 = np.tile(['X', 'Y'], n // 2)\n",
        "data = pd.DataFrame({'Factor1': factor1,\n",
        "                      'Factor2': factor2,\n",
        "                     'Value': np.random.normal(loc=10, scale=2, size=2 * n)})\n",
        "model = sm.ols('Value ~ Factor1 * Factor2', data=data).fit()\n",
        "anova_table = sm.stats.anova_lm(model, typ=2)\n",
        "print(anova_table)\n",
        "\n",
        "# Visualize the interaction effect using an interaction plot\n",
        "plt.figure(figsize=(8, 6))\n",
        "sns.pointplot(x='Factor1', y='Value', hue='Factor2', data=data, dodge=True)\n",
        "plt.title('Interaction Plot for Two-Way ANOVA')\n",
        "plt.xlabel('Factor 1')\n",
        "plt.ylabel('Value')\n",
        "plt.grid(True)\n",
        "plt.show()\n",
        "\n"
      ],
      "metadata": {
        "colab": {
          "base_uri": "https://localhost:8080/",
          "height": 356
        },
        "id": "Gjfh_LwTcatC",
        "outputId": "aa45d641-2fea-4f89-9d41-f0b5af6b56a7"
      },
      "execution_count": null,
      "outputs": [
        {
          "output_type": "error",
          "ename": "ValueError",
          "evalue": "All arrays must be of the same length",
          "traceback": [
            "\u001b[0;31m---------------------------------------------------------------------------\u001b[0m",
            "\u001b[0;31mValueError\u001b[0m                                Traceback (most recent call last)",
            "\u001b[0;32m<ipython-input-20-90550fb84f13>\u001b[0m in \u001b[0;36m<cell line: 0>\u001b[0;34m()\u001b[0m\n\u001b[1;32m     10\u001b[0m \u001b[0mfactor1\u001b[0m \u001b[0;34m=\u001b[0m \u001b[0mnp\u001b[0m\u001b[0;34m.\u001b[0m\u001b[0mrepeat\u001b[0m\u001b[0;34m(\u001b[0m\u001b[0;34m[\u001b[0m\u001b[0;34m'A'\u001b[0m\u001b[0;34m,\u001b[0m \u001b[0;34m'B'\u001b[0m\u001b[0;34m]\u001b[0m\u001b[0;34m,\u001b[0m \u001b[0mn\u001b[0m\u001b[0;34m)\u001b[0m\u001b[0;34m\u001b[0m\u001b[0;34m\u001b[0m\u001b[0m\n\u001b[1;32m     11\u001b[0m \u001b[0mfactor2\u001b[0m \u001b[0;34m=\u001b[0m \u001b[0mnp\u001b[0m\u001b[0;34m.\u001b[0m\u001b[0mtile\u001b[0m\u001b[0;34m(\u001b[0m\u001b[0;34m[\u001b[0m\u001b[0;34m'X'\u001b[0m\u001b[0;34m,\u001b[0m \u001b[0;34m'Y'\u001b[0m\u001b[0;34m]\u001b[0m\u001b[0;34m,\u001b[0m \u001b[0mn\u001b[0m \u001b[0;34m//\u001b[0m \u001b[0;36m2\u001b[0m\u001b[0;34m)\u001b[0m\u001b[0;34m\u001b[0m\u001b[0;34m\u001b[0m\u001b[0m\n\u001b[0;32m---> 12\u001b[0;31m data = pd.DataFrame({'Factor1': factor1, \n\u001b[0m\u001b[1;32m     13\u001b[0m                      \u001b[0;34m'Factor2'\u001b[0m\u001b[0;34m:\u001b[0m \u001b[0mfactor2\u001b[0m\u001b[0;34m,\u001b[0m\u001b[0;34m\u001b[0m\u001b[0;34m\u001b[0m\u001b[0m\n\u001b[1;32m     14\u001b[0m                      'Value': np.random.normal(loc=10, scale=2, size=2 * n)})\n",
            "\u001b[0;32m/usr/local/lib/python3.11/dist-packages/pandas/core/frame.py\u001b[0m in \u001b[0;36m__init__\u001b[0;34m(self, data, index, columns, dtype, copy)\u001b[0m\n\u001b[1;32m    776\u001b[0m         \u001b[0;32melif\u001b[0m \u001b[0misinstance\u001b[0m\u001b[0;34m(\u001b[0m\u001b[0mdata\u001b[0m\u001b[0;34m,\u001b[0m \u001b[0mdict\u001b[0m\u001b[0;34m)\u001b[0m\u001b[0;34m:\u001b[0m\u001b[0;34m\u001b[0m\u001b[0;34m\u001b[0m\u001b[0m\n\u001b[1;32m    777\u001b[0m             \u001b[0;31m# GH#38939 de facto copy defaults to False only in non-dict cases\u001b[0m\u001b[0;34m\u001b[0m\u001b[0;34m\u001b[0m\u001b[0m\n\u001b[0;32m--> 778\u001b[0;31m             \u001b[0mmgr\u001b[0m \u001b[0;34m=\u001b[0m \u001b[0mdict_to_mgr\u001b[0m\u001b[0;34m(\u001b[0m\u001b[0mdata\u001b[0m\u001b[0;34m,\u001b[0m \u001b[0mindex\u001b[0m\u001b[0;34m,\u001b[0m \u001b[0mcolumns\u001b[0m\u001b[0;34m,\u001b[0m \u001b[0mdtype\u001b[0m\u001b[0;34m=\u001b[0m\u001b[0mdtype\u001b[0m\u001b[0;34m,\u001b[0m \u001b[0mcopy\u001b[0m\u001b[0;34m=\u001b[0m\u001b[0mcopy\u001b[0m\u001b[0;34m,\u001b[0m \u001b[0mtyp\u001b[0m\u001b[0;34m=\u001b[0m\u001b[0mmanager\u001b[0m\u001b[0;34m)\u001b[0m\u001b[0;34m\u001b[0m\u001b[0;34m\u001b[0m\u001b[0m\n\u001b[0m\u001b[1;32m    779\u001b[0m         \u001b[0;32melif\u001b[0m \u001b[0misinstance\u001b[0m\u001b[0;34m(\u001b[0m\u001b[0mdata\u001b[0m\u001b[0;34m,\u001b[0m \u001b[0mma\u001b[0m\u001b[0;34m.\u001b[0m\u001b[0mMaskedArray\u001b[0m\u001b[0;34m)\u001b[0m\u001b[0;34m:\u001b[0m\u001b[0;34m\u001b[0m\u001b[0;34m\u001b[0m\u001b[0m\n\u001b[1;32m    780\u001b[0m             \u001b[0;32mfrom\u001b[0m \u001b[0mnumpy\u001b[0m\u001b[0;34m.\u001b[0m\u001b[0mma\u001b[0m \u001b[0;32mimport\u001b[0m \u001b[0mmrecords\u001b[0m\u001b[0;34m\u001b[0m\u001b[0;34m\u001b[0m\u001b[0m\n",
            "\u001b[0;32m/usr/local/lib/python3.11/dist-packages/pandas/core/internals/construction.py\u001b[0m in \u001b[0;36mdict_to_mgr\u001b[0;34m(data, index, columns, dtype, typ, copy)\u001b[0m\n\u001b[1;32m    501\u001b[0m             \u001b[0marrays\u001b[0m \u001b[0;34m=\u001b[0m \u001b[0;34m[\u001b[0m\u001b[0mx\u001b[0m\u001b[0;34m.\u001b[0m\u001b[0mcopy\u001b[0m\u001b[0;34m(\u001b[0m\u001b[0;34m)\u001b[0m \u001b[0;32mif\u001b[0m \u001b[0mhasattr\u001b[0m\u001b[0;34m(\u001b[0m\u001b[0mx\u001b[0m\u001b[0;34m,\u001b[0m \u001b[0;34m\"dtype\"\u001b[0m\u001b[0;34m)\u001b[0m \u001b[0;32melse\u001b[0m \u001b[0mx\u001b[0m \u001b[0;32mfor\u001b[0m \u001b[0mx\u001b[0m \u001b[0;32min\u001b[0m \u001b[0marrays\u001b[0m\u001b[0;34m]\u001b[0m\u001b[0;34m\u001b[0m\u001b[0;34m\u001b[0m\u001b[0m\n\u001b[1;32m    502\u001b[0m \u001b[0;34m\u001b[0m\u001b[0m\n\u001b[0;32m--> 503\u001b[0;31m     \u001b[0;32mreturn\u001b[0m \u001b[0marrays_to_mgr\u001b[0m\u001b[0;34m(\u001b[0m\u001b[0marrays\u001b[0m\u001b[0;34m,\u001b[0m \u001b[0mcolumns\u001b[0m\u001b[0;34m,\u001b[0m \u001b[0mindex\u001b[0m\u001b[0;34m,\u001b[0m \u001b[0mdtype\u001b[0m\u001b[0;34m=\u001b[0m\u001b[0mdtype\u001b[0m\u001b[0;34m,\u001b[0m \u001b[0mtyp\u001b[0m\u001b[0;34m=\u001b[0m\u001b[0mtyp\u001b[0m\u001b[0;34m,\u001b[0m \u001b[0mconsolidate\u001b[0m\u001b[0;34m=\u001b[0m\u001b[0mcopy\u001b[0m\u001b[0;34m)\u001b[0m\u001b[0;34m\u001b[0m\u001b[0;34m\u001b[0m\u001b[0m\n\u001b[0m\u001b[1;32m    504\u001b[0m \u001b[0;34m\u001b[0m\u001b[0m\n\u001b[1;32m    505\u001b[0m \u001b[0;34m\u001b[0m\u001b[0m\n",
            "\u001b[0;32m/usr/local/lib/python3.11/dist-packages/pandas/core/internals/construction.py\u001b[0m in \u001b[0;36marrays_to_mgr\u001b[0;34m(arrays, columns, index, dtype, verify_integrity, typ, consolidate)\u001b[0m\n\u001b[1;32m    112\u001b[0m         \u001b[0;31m# figure out the index, if necessary\u001b[0m\u001b[0;34m\u001b[0m\u001b[0;34m\u001b[0m\u001b[0m\n\u001b[1;32m    113\u001b[0m         \u001b[0;32mif\u001b[0m \u001b[0mindex\u001b[0m \u001b[0;32mis\u001b[0m \u001b[0;32mNone\u001b[0m\u001b[0;34m:\u001b[0m\u001b[0;34m\u001b[0m\u001b[0;34m\u001b[0m\u001b[0m\n\u001b[0;32m--> 114\u001b[0;31m             \u001b[0mindex\u001b[0m \u001b[0;34m=\u001b[0m \u001b[0m_extract_index\u001b[0m\u001b[0;34m(\u001b[0m\u001b[0marrays\u001b[0m\u001b[0;34m)\u001b[0m\u001b[0;34m\u001b[0m\u001b[0;34m\u001b[0m\u001b[0m\n\u001b[0m\u001b[1;32m    115\u001b[0m         \u001b[0;32melse\u001b[0m\u001b[0;34m:\u001b[0m\u001b[0;34m\u001b[0m\u001b[0;34m\u001b[0m\u001b[0m\n\u001b[1;32m    116\u001b[0m             \u001b[0mindex\u001b[0m \u001b[0;34m=\u001b[0m \u001b[0mensure_index\u001b[0m\u001b[0;34m(\u001b[0m\u001b[0mindex\u001b[0m\u001b[0;34m)\u001b[0m\u001b[0;34m\u001b[0m\u001b[0;34m\u001b[0m\u001b[0m\n",
            "\u001b[0;32m/usr/local/lib/python3.11/dist-packages/pandas/core/internals/construction.py\u001b[0m in \u001b[0;36m_extract_index\u001b[0;34m(data)\u001b[0m\n\u001b[1;32m    675\u001b[0m         \u001b[0mlengths\u001b[0m \u001b[0;34m=\u001b[0m \u001b[0mlist\u001b[0m\u001b[0;34m(\u001b[0m\u001b[0mset\u001b[0m\u001b[0;34m(\u001b[0m\u001b[0mraw_lengths\u001b[0m\u001b[0;34m)\u001b[0m\u001b[0;34m)\u001b[0m\u001b[0;34m\u001b[0m\u001b[0;34m\u001b[0m\u001b[0m\n\u001b[1;32m    676\u001b[0m         \u001b[0;32mif\u001b[0m \u001b[0mlen\u001b[0m\u001b[0;34m(\u001b[0m\u001b[0mlengths\u001b[0m\u001b[0;34m)\u001b[0m \u001b[0;34m>\u001b[0m \u001b[0;36m1\u001b[0m\u001b[0;34m:\u001b[0m\u001b[0;34m\u001b[0m\u001b[0;34m\u001b[0m\u001b[0m\n\u001b[0;32m--> 677\u001b[0;31m             \u001b[0;32mraise\u001b[0m \u001b[0mValueError\u001b[0m\u001b[0;34m(\u001b[0m\u001b[0;34m\"All arrays must be of the same length\"\u001b[0m\u001b[0;34m)\u001b[0m\u001b[0;34m\u001b[0m\u001b[0;34m\u001b[0m\u001b[0m\n\u001b[0m\u001b[1;32m    678\u001b[0m \u001b[0;34m\u001b[0m\u001b[0m\n\u001b[1;32m    679\u001b[0m         \u001b[0;32mif\u001b[0m \u001b[0mhave_dicts\u001b[0m\u001b[0;34m:\u001b[0m\u001b[0;34m\u001b[0m\u001b[0;34m\u001b[0m\u001b[0m\n",
            "\u001b[0;31mValueError\u001b[0m: All arrays must be of the same length"
          ]
        }
      ]
    },
    {
      "cell_type": "markdown",
      "source": [
        "21).Write a Python program to visualize the F-distribution and discuss its use in hypothesis testing.\n"
      ],
      "metadata": {
        "id": "3R88gapPda35"
      }
    },
    {
      "cell_type": "code",
      "source": [
        "import numpy as np\n",
        "import matplotlib.pyplot as plt\n",
        "from scipy import stats\n",
        "\n",
        "# Parameters for the F-distribution\n",
        "dfn = 10  # Degrees of freedom for the numerator\n",
        "dfd = 20  # Degrees of freedom for the denominator\n",
        "\n",
        "# Generate x-values for the plot\n",
        "x = np.linspace(0, 5, 1000)  # Adjust range as needed\n",
        "\n",
        "# Calculate the probability density function (pdf)\n",
        "pdf = stats.f.pdf(x, dfn, dfd)\n",
        "\n",
        "# Create the plot\n",
        "plt.figure(figsize=(8, 6))\n",
        "plt.plot(x, pdf, color='blue', linewidth=2)\n",
        "plt.title('F-Distribution')\n",
        "plt.xlabel('F-Value')\n",
        "plt.ylabel('Probability Density')\n",
        "plt.grid(True)\n",
        "\n",
        "# Shade the critical region (e.g., for alpha = 0.05)\n",
        "alpha = 0.05\n",
        "critical_value = stats.f.ppf(1 - alpha, dfn, dfd)\n",
        "plt.fill_between(x, pdf, where=(x >= critical_value), color='red', alpha=0.3, label=f'Critical Region (alpha={alpha})')\n",
        "\n",
        "plt.legend()\n",
        "plt.show()\n"
      ],
      "metadata": {
        "colab": {
          "base_uri": "https://localhost:8080/",
          "height": 564
        },
        "id": "m2CHW896dulH",
        "outputId": "fe378734-8265-4139-9405-a115f705775d"
      },
      "execution_count": null,
      "outputs": [
        {
          "output_type": "display_data",
          "data": {
            "text/plain": [
              "<Figure size 800x600 with 1 Axes>"
            ],
            "image/png": "[encoded data removed]"
          },
          "metadata": {}
        }
      ]
    },
    {
      "cell_type": "markdown",
      "source": [
        "22).\n",
        " Perform a one-way ANOVA test in Python and visualize the results with boxplots to compare group means"
      ],
      "metadata": {
        "id": "K3WXXXAjiNmg"
      }
    },
    {
      "cell_type": "code",
      "source": [
        "import numpy as np\n",
        "import matplotlib.pyplot as plt\n",
        "from scipy import stats\n",
        "\n",
        "# Generate sample data for three groups\n",
        "group1 = np.random.normal(loc=10, scale=2, size=30)\n",
        "group2 = np.random.normal(loc=12, scale=2, size=30)\n",
        "group3 = np.random.normal(loc=15, scale=2, size=30)\n",
        "\n",
        "# Perform one-way ANOVA\n",
        "f_statistic, p_value = stats.f_oneway(group1, group2, group3)\n",
        "\n",
        "# Print the results\n",
        "print(\"F-statistic:\", f_statistic)\n",
        "print(\"P-value:\", p_value)\n",
        "\n",
        "# Create box plot to visualize the data\n",
        "plt.figure(figsize=(8, 6))\n",
        "plt.boxplot([group1, group2, group3], labels=['Group 1', 'Group 2', 'Group 3'])\n",
        "plt.title('One-way ANOVA: Comparison of Means')\n",
        "plt.ylabel('Value')\n",
        "plt.grid(True)\n",
        "\n",
        "# Add ANOVA results to the plot\n",
        "plt.text(1.5, max(group1.max(), group2.max(), group3.max()) + 1,\n",
        "         f'F-statistic: {f_statistic:.2f}\\nP-value: {p_value:.3f}',\n",
        "                  ha='center', va='bottom')\n",
        "\n",
        "plt.show()\n",
        "\n"
      ],
      "metadata": {
        "colab": {
          "base_uri": "https://localhost:8080/",
          "height": 653
        },
        "id": "QfwImEIkibwP",
        "outputId": "bd3f658b-125e-4ec0-ef26-fd253b1b8aeb"
      },
      "execution_count": null,
      "outputs": [
        {
          "output_type": "stream",
          "name": "stdout",
          "text": [
            "F-statistic: 57.32193805121074\n",
            "P-value: 1.3171595225318212e-16\n"
          ]
        },
        {
          "output_type": "stream",
          "name": "stderr",
          "text": [
            "<ipython-input-22-7b7e83a1d325>:19: MatplotlibDeprecationWarning: The 'labels' parameter of boxplot() has been renamed 'tick_labels' since Matplotlib 3.9; support for the old name will be dropped in 3.11.\n",
            "  plt.boxplot([group1, group2, group3], labels=['Group 1', 'Group 2', 'Group 3'])\n"
          ]
        },
        {
          "output_type": "display_data",
          "data": {
            "text/plain": [
              "<Figure size 800x600 with 1 Axes>"
            ],
            "image/png": "[encoded data removed]"
          },
          "metadata": {}
        }
      ]
    },
    {
      "cell_type": "markdown",
      "source": [
        "23). Simulate random data from a normal distribution, then perform hypothesis testing to evaluate the means"
      ],
      "metadata": {
        "id": "UBYWsThEihxr"
      }
    },
    {
      "cell_type": "code",
      "source": [
        "import numpy as np\n",
        "from scipy import stats\n",
        "\n",
        "# 1. Simulate Random Data\n",
        "np.random.seed(42)  # Set seed for reproducibility\n",
        "sample_size = 30\n",
        "population_mean = 50  # Hypothesized population mean\n",
        "population_std = 5    # Population standard deviation\n",
        "sample_data = np.random.normal(population_mean, population_std, sample_size)\n",
        "\n",
        "# 2. Perform Hypothesis Testing (One-Sample t-test)\n",
        "# Null Hypothesis: The sample mean is equal to the population mean (50).\n",
        "# Alternative Hypothesis: The sample mean is not equal to the population mean (50).\n",
        "\n",
        "t_statistic, p_value = stats.ttest_1samp(sample_data, population_mean)\n",
        "\n",
        "# 3. Print Results and Interpret\n",
        "print(\"t-statistic:\", t_statistic)\n",
        "print(\"p-value:\", p_value)\n",
        "\n",
        "alpha = 0.05  # Significance level\n",
        "\n",
        "if p_value < alpha:\n",
        "    print(\"Reject the null hypothesis.\")\n",
        "    print(\"There is sufficient evidence to suggest that the sample mean is different from the population mean.\")\n",
        "else:\n",
        "    print(\"Fail to reject the null hypothesis.\")\n",
        "    print(\"There is not enough evidence to suggest that the sample mean is different from the population mean.\")\n",
        "\n"
      ],
      "metadata": {
        "colab": {
          "base_uri": "https://localhost:8080/"
        },
        "id": "zvg6eWKYi18l",
        "outputId": "bc033c9c-503d-4e22-e45c-f72c17523b04"
      },
      "execution_count": null,
      "outputs": [
        {
          "output_type": "stream",
          "name": "stdout",
          "text": [
            "t-statistic: -1.1450173670383355\n",
            "p-value: 0.26156414618801277\n",
            "Fail to reject the null hypothesis.\n",
            "There is not enough evidence to suggest that the sample mean is different from the population mean.\n"
          ]
        }
      ]
    },
    {
      "cell_type": "markdown",
      "source": [
        "24). Perform a hypothesis test for population variance using a Chi-square distribution and interpret the results"
      ],
      "metadata": {
        "id": "lEjTDzN-jBbf"
      }
    },
    {
      "cell_type": "code",
      "source": [
        "import numpy as np\n",
        "from scipy import stats\n",
        "\n",
        "# 1. Define Sample Data and Hypothesized Variance\n",
        "sample_data = [12, 15, 18, 11, 13, 16, 14, 17, 19, 12]\n",
        "hypothesized_variance = 4  # The variance you want to test against\n",
        "\n",
        "# 2. Calculate Sample Variance and Degrees of Freedom\n",
        "sample_variance = np.var(sample_data, ddof=1)  # Use ddof=1 for unbiased sample variance\n",
        "degrees_of_freedom = len(sample_data) - 1\n",
        "\n",
        "# 3. Calculate Chi-Square Statistic\n",
        "chi_square_statistic = degrees_of_freedom * sample_variance / hypothesized_variance\n",
        "\n",
        "# 4. Calculate p-value (Two-tailed test)\n",
        "p_value = 2 * min(stats.chi2.cdf(chi_square_statistic, degrees_of_freedom),\n",
        "                  1 - stats.chi2.cdf(chi_square_statistic, degrees_of_freedom))\n",
        "\n",
        "# 5. Print Results and Interpret\n",
        "print(\"Chi-square statistic:\", chi_square_statistic)\n",
        "print(\"P-value:\", p_value)\n",
        "\n",
        "alpha = 0.05  # Significance level\n",
        "\n",
        "if p_value < alpha:\n",
        "    print(\"Reject the null hypothesis.\")\n",
        "    print(\"There is sufficient evidence to suggest that the population variance is different from\", hypothesized_variance)\n",
        "else:\n",
        "    print(\"Fail to reject the null hypothesis.\")\n",
        "    print(\"There is not enough evidence to suggest that the population variance is different from\", hypothesized_variance)\n",
        "\n"
      ],
      "metadata": {
        "colab": {
          "base_uri": "https://localhost:8080/"
        },
        "id": "dL0ZyOrxjGfM",
        "outputId": "deb6d9a1-d1be-4610-9347-62ab87b4b8a4"
      },
      "execution_count": null,
      "outputs": [
        {
          "output_type": "stream",
          "name": "stdout",
          "text": [
            "Chi-square statistic: 17.025\n",
            "P-value: 0.09665183005235622\n",
            "Fail to reject the null hypothesis.\n",
            "There is not enough evidence to suggest that the population variance is different from 4\n"
          ]
        }
      ]
    },
    {
      "cell_type": "markdown",
      "source": [
        "25). Write a Python script to perform a Z-test for comparing proportions between two datasets or groups"
      ],
      "metadata": {
        "id": "LecdNTFgjf2q"
      }
    },
    {
      "cell_type": "code",
      "source": [
        "import numpy as np\n",
        "from statsmodels.stats.proportion import proportions_ztest\n",
        "\n",
        "# Data for group 1\n",
        "count1 = 120  # Number of successes in group 1\n",
        "nobs1 = 500   # Total number of observations in group 1\n",
        "\n",
        "# Data for group 2\n",
        "count2 = 150  # Number of successes in group 2\n",
        "nobs2 = 600   # Total number of observations in group 2\n",
        "\n",
        "# Perform Z-test for proportions\n",
        "z_stat, p_value = proportions_ztest([count1, count2], [nobs1, nobs2])\n",
        "\n",
        "# Print the results\n",
        "print(\"Z-statistic:\", z_stat)\n",
        "print(\"P-value:\", p_value)\n",
        "\n",
        "# Interpret the results\n",
        "alpha = 0.05  # Significance level\n",
        "\n",
        "if p_value < alpha:\n",
        "    print(\"Reject the null hypothesis.\")\n",
        "    print(\"There is a significant difference in proportions between the two groups.\")\n",
        "else:\n",
        "    print(\"Fail to reject the null hypothesis.\")\n",
        "    print(\"There is no significant difference in proportions between the two groups.\")\n",
        "\n"
      ],
      "metadata": {
        "colab": {
          "base_uri": "https://localhost:8080/"
        },
        "id": "Tj2qE6THjnSd",
        "outputId": "0bd761b9-6cb9-4b1b-e79d-f1246b2c0488"
      },
      "execution_count": null,
      "outputs": [
        {
          "output_type": "stream",
          "name": "stdout",
          "text": [
            "Z-statistic: -0.38373909030012093\n",
            "P-value: 0.7011718367684665\n",
            "Fail to reject the null hypothesis.\n",
            "There is no significant difference in proportions between the two groups.\n"
          ]
        }
      ]
    },
    {
      "cell_type": "markdown",
      "source": [
        "26).\n",
        "Implement an F-test for comparing the variances of two datasets, then interpret and visualize the results"
      ],
      "metadata": {
        "id": "SbeEZwTcjyHs"
      }
    },
    {
      "cell_type": "code",
      "source": [
        "import numpy as np\n",
        "import matplotlib.pyplot as plt\n",
        "from scipy import stats\n",
        "\n",
        "# Generate two random samples (replace with your actual data)\n",
        "np.random.seed(42)  # For reproducibility\n",
        "data1 = np.random.normal(loc=10, scale=2, size=30)\n",
        "data2 = np.random.normal(loc=12, scale=3, size=40)\n",
        "\n",
        "# Perform F-test\n",
        "fvalue, pvalue = stats.f_oneway(data1, data2)\n",
        "\n",
        "# Print the results\n",
        "print(\"F-value:\", fvalue)\n",
        "print(\"P-value:\", pvalue)\n",
        "\n",
        "# Interpret the results\n",
        "alpha = 0.05  # Significance level\n",
        "if pvalue < alpha:\n",
        "    print(\"Reject the null hypothesis.\")\n",
        "    print(\"There is a significant difference in variances between the two datasets.\")\n",
        "else:\n",
        "    print(\"Fail to reject the null hypothesis.\")\n",
        "    print(\"There is no significant difference in variances between the two datasets.\")\n"
      ],
      "metadata": {
        "colab": {
          "base_uri": "https://localhost:8080/"
        },
        "id": "ZQ1hiRqHj4Rd",
        "outputId": "17da058e-4364-4a91-fcd1-2da4f6b1ab22"
      },
      "execution_count": null,
      "outputs": [
        {
          "output_type": "stream",
          "name": "stdout",
          "text": [
            "F-value: 13.2983784971413\n",
            "P-value: 0.0005155954900177973\n",
            "Reject the null hypothesis.\n",
            "There is a significant difference in variances between the two datasets.\n"
          ]
        }
      ]
    },
    {
      "cell_type": "markdown",
      "source": [
        "27). Perform a Chi-square test for goodness of fit with simulated data and analyze the results"
      ],
      "metadata": {
        "id": "VR2SPr3akO8R"
      }
    },
    {
      "cell_type": "code",
      "source": [
        "import numpy as np\n",
        "from scipy import stats\n",
        "\n",
        "# 1. Generate Simulated Data\n",
        "np.random.seed(42)  # For reproducibility\n",
        "sample_size = 100\n",
        "# Simulate data from a categorical distribution (e.g., dice rolls)\n",
        "observed_data = np.random.choice([1, 2, 3, 4, 5, 6], size=sample_size)\n",
        "\n",
        "# 2. Define Expected Distribution (Proportions)\n",
        "# If the dice is fair, we expect each outcome with equal probability (1/6)\n",
        "expected_distribution = np.array([1/6, 1/6, 1/6, 1/6, 1/6, 1/6])\n",
        "\n",
        "# 3. Calculate Expected Frequencies\n",
        "expected_frequencies = expected_distribution * sample_size\n",
        "\n",
        "\n",
        "# 5. Print Results and Interpret\n",
        "print(\"Chi-square statistic:\", chi2_statistic)\n",
        "print(\"P-value:\", p_value)\n",
        "\n",
        "alpha = 0.05  # Significance level\n",
        "\n",
        "if p_value < alpha:\n",
        "    print(\"Reject the null hypothesis.\")\n",
        "    print(\"The observed data does not fit the expected distribution.\")\n",
        "else:\n",
        "    print(\"Fail to reject the null hypothesis.\")\n",
        "    print(\"The observed data fits the expected distribution.\")\n",
        "\n",
        "\n"
      ],
      "metadata": {
        "colab": {
          "base_uri": "https://localhost:8080/"
        },
        "id": "CLhJPE_NkVuI",
        "outputId": "edc9fb0b-1453-4907-f22f-a8920764701d"
      },
      "execution_count": null,
      "outputs": [
        {
          "output_type": "stream",
          "name": "stdout",
          "text": [
            "Chi-square statistic: 26.666666666666668\n",
            "P-value: 0.7011718367684665\n",
            "Fail to reject the null hypothesis.\n",
            "The observed data fits the expected distribution.\n"
          ]
        }
      ]
    }
  ]
}